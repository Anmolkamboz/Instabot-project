{
 "cells": [
  {
   "cell_type": "markdown",
   "metadata": {},
   "source": [
    "InstaBot Part-1"
   ]
  },
  {
   "cell_type": "markdown",
   "metadata": {},
   "source": [
    "Your friend has opened a new Food Blogging handle on Instagram and wants to get famous. He wants to follow a lot of people so that he can get noticed quickly but it is a tedious task so he asks you to help him. As you have just learned automation using Selenium, you decided to help him by creating an Instagram Bot.\n",
    "\n",
    "You need to create different functions for each task."
   ]
  },
  {
   "cell_type": "code",
   "execution_count": 26,
   "metadata": {},
   "outputs": [],
   "source": [
    "from time import sleep\n",
    "from bs4 import BeautifulSoup \n",
    "from selenium import webdriver\n",
    "from selenium.webdriver.common.by import By\n",
    "from selenium.webdriver.support.ui import WebDriverWait\n",
    "from selenium.webdriver.support import expected_conditions as EC\n",
    "from selenium.common.exceptions import TimeoutException"
   ]
  },
  {
   "cell_type": "code",
   "execution_count": 27,
   "metadata": {},
   "outputs": [],
   "source": [
    "#In the line we are instantiating a Chrome WebDriver object in Python using the Selenium library\n",
    "driver = webdriver.Chrome()\n",
    "#Opening instagram\n",
    "driver.get(\"https://www.instagram.com/?hl=en\")\n"
   ]
  },
  {
   "cell_type": "code",
   "execution_count": 28,
   "metadata": {},
   "outputs": [],
   "source": [
    "# initisalizing explicit wait\n",
    "wait = WebDriverWait(driver,10)"
   ]
  },
  {
   "cell_type": "code",
   "execution_count": 29,
   "metadata": {},
   "outputs": [],
   "source": [
    "#write your username and password here\n",
    "username=\"heroiam16\"\n",
    "password=\"Vinayak911\""
   ]
  },
  {
   "cell_type": "markdown",
   "metadata": {},
   "source": [
    "Problem 1 : Login to your instagram handle "
   ]
  },
  {
   "cell_type": "markdown",
   "metadata": {},
   "source": [
    "Submit with sample username and password"
   ]
  },
  {
   "cell_type": "code",
   "execution_count": 30,
   "metadata": {},
   "outputs": [],
   "source": [
    "def login(username,password):\n",
    "  try:\n",
    "      #Locating username textbook then entering username by sending keys\n",
    "      wait.until(EC.presence_of_element_located((By.NAME , \"username\"))).send_keys(username)\n",
    "      \n",
    "      #Locating password textbook then entering username by sending keys\n",
    "      wait.until(EC.presence_of_element_located((By.NAME , \"password\"))).send_keys(password)\n",
    "      #Locating login button to submit it \n",
    "      wait.until(EC.element_to_be_clickable((By.CSS_SELECTOR, \"button[type='submit']\"))).click() \n",
    "      #Locating Turn on Notification : to click on No\n",
    "      wait.until(EC.presence_of_element_located((By.CSS_SELECTOR,'button._a9--._ap36._a9_1'))).click()\n",
    "\n",
    "  except:\n",
    "      print(\"Something went wrong\")"
   ]
  },
  {
   "cell_type": "code",
   "execution_count": 31,
   "metadata": {},
   "outputs": [],
   "source": [
    "login(username,password)"
   ]
  },
  {
   "cell_type": "markdown",
   "metadata": {},
   "source": [
    "Problem 2 : Type for “food” in search"
   ]
  },
  {
   "cell_type": "markdown",
   "metadata": {},
   "source": [
    "Type for “food” in search bar and print all the names of the Instagram Handles that are displayed in list after typing “food” bar and print all the names of the Instagram Handles that are displayed in list after typing “food”\n",
    "Note : Make sure to avoid printing hashtags"
   ]
  },
  {
   "cell_type": "code",
   "execution_count": 107,
   "metadata": {},
   "outputs": [],
   "source": [
    "\n",
    "    \n",
    "\n",
    "def search(string):\n",
    "    try:\n",
    "        # Locating Search bar then click on it\n",
    "        wait.until(EC.presence_of_element_located((By.XPATH, '//*[@id=\"mount_0_0_x0\"]/div/div/div[2]/div/div/div[1]/div[1]/div[1]/div/div/div/div/div[2]/div[2]/span/div/a/div/div[1]/div/div' ))).click()\n",
    "        # Locating Search TextBox then enter search string\n",
    "        wait.until(EC.presence_of_element_located((By.XPATH, '//*[@id=\"mount_0_0_x0\"]/div/div/div[2]/div/div/div[1]/div[1]/div[1]/div/div/div[2]/div/div/div[2]/div/div/div[1]/div/div/input' ))).send_keys(string)\n",
    "        data=wait.until(EC.presence_of_elements_located((By.XPATH, '//*[@id=\"mount_0_0_x0\"]/div/div/div[2]/div/div/div[1]/div[1]/div[1]/div/div/div[2]/div/div/div[2]/div/div/div[2]/div/a[1]/div[1]/div/div/div[2]/div/div/div' )))\n",
    "        for i in data:\n",
    "            print(data.text)\n",
    "                                                                \n",
    "    except:\n",
    "        print(\"Somthing went wrong\")    "
   ]
  },
  {
   "cell_type": "code",
   "execution_count": 111,
   "metadata": {},
   "outputs": [
    {
     "name": "stdout",
     "output_type": "stream",
     "text": [
      "Somthing went wrong\n"
     ]
    }
   ],
   "source": [
    "search(\"food\")"
   ]
  }
 ],
 "metadata": {
  "kernelspec": {
   "display_name": "Python 3 (ipykernel)",
   "language": "python",
   "name": "python3"
  },
  "language_info": {
   "codemirror_mode": {
    "name": "ipython",
    "version": 3
   },
   "file_extension": ".py",
   "mimetype": "text/x-python",
   "name": "python",
   "nbconvert_exporter": "python",
   "pygments_lexer": "ipython3",
   "version": "3.12.0"
  }
 },
 "nbformat": 4,
 "nbformat_minor": 4
}
